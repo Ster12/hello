{
 "cells": [
  {
   "cell_type": "code",
   "execution_count": 1,
   "metadata": {},
   "outputs": [],
   "source": [
    "import matplotlib.pyplot as plt\n",
    "import tensorflow as tf\n",
    "import numpy as np"
   ]
  },
  {
   "cell_type": "code",
   "execution_count": 2,
   "metadata": {},
   "outputs": [
    {
     "name": "stdout",
     "output_type": "stream",
     "text": [
      "WARNING:tensorflow:From /home/sterling/.conda/envs/tensorflow/lib/python3.7/site-packages/tensorflow/python/ops/control_flow_ops.py:3632: colocate_with (from tensorflow.python.framework.ops) is deprecated and will be removed in a future version.\n",
      "Instructions for updating:\n",
      "Colocations handled automatically by placer.\n",
      "WARNING:tensorflow:From /home/sterling/.conda/envs/tensorflow/lib/python3.7/site-packages/tensorflow/python/training/saver.py:1266: checkpoint_exists (from tensorflow.python.training.checkpoint_management) is deprecated and will be removed in a future version.\n",
      "Instructions for updating:\n",
      "Use standard file APIs to check for files with this prefix.\n",
      "INFO:tensorflow:Restoring parameters from ./running_model.ckpt\n",
      "\n",
      " Data_Marche_Test.shape (3360, 3)\n",
      " Data_Course_Test.shape (2160, 3)\n",
      "\n",
      " Labels_Marche_Test.shape (84,)\n",
      " Labels_Course_Test.shape (54,)\n",
      "\n",
      " Features et Labels Test:  (138, 40, 3, 1) (138,)\n",
      "\n",
      " Test set accuracy: [0.9202899]\n",
      " Prédi Tensor(\"final_result:0\", shape=(?, 3), dtype=float32)\n",
      " labels [0. 0. 0. 0. 0. 0. 0. 0. 0. 0. 0. 0. 0. 0. 0. 0. 0. 0. 0. 0. 0. 0. 0. 0.\n",
      " 0. 0. 0. 0. 0. 0. 0. 0. 0. 0. 0. 0. 0. 0. 0. 0. 0. 0. 0. 0. 0. 0. 0. 0.\n",
      " 0. 0. 0. 0. 0. 0. 0. 0. 0. 0. 0. 0. 0. 0. 0. 0. 0. 0. 0. 0. 0. 0. 0. 0.\n",
      " 0. 0. 0. 0. 0. 0. 0. 0. 0. 0. 0. 0. 1. 1. 1. 1. 1. 1. 1. 1. 1. 1. 1. 1.\n",
      " 1. 1. 1. 1. 1. 1. 1. 1. 1. 1. 1. 1. 1. 1. 1. 1. 1. 1. 1. 1. 1. 1. 1. 1.\n",
      " 1. 1. 1. 1. 1. 1. 1. 1. 1. 1. 1. 1. 1. 1. 1. 1. 1. 1.]\n"
     ]
    }
   ],
   "source": [
    "sess=tf.Session()  \n",
    "saver = tf.train.import_meta_graph(\"./Model.meta\")\n",
    "saver.restore(sess,tf.train.latest_checkpoint('./'))\n",
    "graph = tf.get_default_graph()\n",
    "\n",
    "x = graph.get_tensor_by_name(\"input:0\")\n",
    "y = graph.get_tensor_by_name(\"label:0\")\n",
    "tensor_accuracy = graph.get_tensor_by_name(\"accuracy/accuracy_value:0\")\n",
    "tensor_result = graph.get_tensor_by_name(\"final_result:0\")\n",
    "\n",
    "Data_Marche_Test = np.loadtxt(\"Marche_Test.txt\") \n",
    "print (\"\\n Data_Marche_Test.shape\", Data_Marche_Test.shape)\n",
    "Data_Course_Test = np.loadtxt(\"Course_Test.txt\") \n",
    "print (\" Data_Course_Test.shape\", Data_Course_Test.shape)\n",
    "\n",
    "Labels_Marche_Test = np.zeros(int(Data_Marche_Test.shape[0]/40),)\n",
    "print (\"\\n Labels_Marche_Test.shape\", Labels_Marche_Test.shape)\n",
    "Labels_Course_Test = np.ones(int(Data_Course_Test.shape[0]/40),)\n",
    "print (\" Labels_Course_Test.shape\", Labels_Course_Test.shape)\n",
    "\n",
    "features_test = np.append(Data_Marche_Test,Data_Course_Test, axis=0)\n",
    "labels_test = np.append(Labels_Marche_Test,Labels_Course_Test, axis=0)\n",
    "features_test = features_test.reshape(int(features_test.shape[0]/40),40,3, 1)\n",
    "print(\"\\n Features et Labels Test: \",features_test.shape, labels_test.shape)\n",
    "\n",
    "\n",
    "\n",
    "accuracy_val = sess.run([tensor_accuracy], feed_dict={x: features_test, y: labels_test})\n",
    "result_val = tensor_result\n",
    "\n",
    "print(\"\\n Test set accuracy:\", accuracy_val)\n",
    "print(\" Prédi\",result_val)\n",
    "print(\" labels\",labels_test)"
   ]
  },
  {
   "cell_type": "code",
   "execution_count": null,
   "metadata": {},
   "outputs": [],
   "source": []
  }
 ],
 "metadata": {
  "kernelspec": {
   "display_name": "Python 3",
   "language": "python",
   "name": "python3"
  },
  "language_info": {
   "codemirror_mode": {
    "name": "ipython",
    "version": 3
   },
   "file_extension": ".py",
   "mimetype": "text/x-python",
   "name": "python",
   "nbconvert_exporter": "python",
   "pygments_lexer": "ipython3",
   "version": "3.7.2"
  }
 },
 "nbformat": 4,
 "nbformat_minor": 2
}
